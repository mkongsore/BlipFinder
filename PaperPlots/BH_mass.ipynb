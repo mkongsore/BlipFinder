{
 "cells": [
  {
   "cell_type": "code",
   "execution_count": 1,
   "id": "407269a4",
   "metadata": {},
   "outputs": [],
   "source": [
    "import numpy as np\n",
    "import scipy.integrate as integrate\n",
    "import matplotlib.pyplot as plt\n",
    "import scipy.constants as const\n",
    "import matplotlib as mpl"
   ]
  },
  {
   "cell_type": "code",
   "execution_count": 2,
   "id": "1120bd56",
   "metadata": {},
   "outputs": [],
   "source": [
    "plt.rcdefaults()\n",
    "fontsize = 14\n",
    "from matplotlib import font_manager\n",
    "from matplotlib import rcParams\n",
    "from matplotlib import rc\n",
    "\n",
    "cmfont = font_manager.FontProperties(fname=mpl.get_data_path() + '/fonts/ttf/cmr10.ttf')\n",
    "plt.rcParams['font.serif']=cmfont.get_name()\n",
    "params = {\"ytick.color\" : \"black\",\n",
    "          \"xtick.color\" : \"black\",\n",
    "          \"axes.labelcolor\" : \"black\",\n",
    "          \"axes.edgecolor\" : \"black\",\n",
    "          \"font.size\" : fontsize,\n",
    "          \"text.usetex\" : False,\n",
    "          \"mathtext.fontset\" : \"cm\",\n",
    "          \"font.family\" : \"serif\",\n",
    "          \"font.serif\" : [cmfont.get_name()]}\n",
    "plt.rcParams['axes.unicode_minus']=False\n",
    "plt.rcParams.update(params)"
   ]
  },
  {
   "cell_type": "code",
   "execution_count": 3,
   "id": "13f14fad",
   "metadata": {},
   "outputs": [],
   "source": [
    "def power_law(x, a, m_min, m_max):\n",
    "    return np.heaviside(m_max - x, 1)*np.heaviside(x - m_min, 1)*x**(-a)/(m_max**(1-a) - m_min**(1-a))*(1-a)\n",
    "\n",
    "\n",
    "def gaussian(x, mu, sigma):\n",
    "    return np.exp(-(x - mu)**2/(2*sigma**2))/np.sqrt(2*np.pi)/sigma\n",
    "\n",
    "\n",
    "def smooth(x, m_min, dm):\n",
    "    \n",
    "    try:\n",
    "        new_x = x[:]\n",
    "        new_x[new_x == m_min] = m_min + 1e-3\n",
    "        new_x[new_x == m_min + dm] = m_min + dm + 1e-3\n",
    "    except:\n",
    "        if x == m_min:\n",
    "            new_x = m_min + 1e-3\n",
    "        elif x == m_min + dm:\n",
    "            new_x = m_min + dm + 1e-3\n",
    "        else:\n",
    "            new_x = x\n",
    "    f = np.exp(dm/(new_x - m_min) + dm/(new_x - m_min - dm))\n",
    "    \n",
    "    #f = np.exp(dm/(x - m_min) + dm/(x - m_min - dm))\n",
    "    return np.heaviside(x - m_min, 0)*np.heaviside(m_min + dm - x, 0)/(f + 1) + np.heaviside(x - m_min - dm, 1)\n",
    "    \n",
    "\n",
    "def ligo(x, a = 2.63, m_min = 4.59, m_max = 86.22, frac = 0.1,\n",
    "         dm = 4.82, mu = 33.07, sigma = 5.69):\n",
    "    return ((1 - frac)*power_law(x, a, m_min, m_max) + frac*gaussian(x, mu, sigma))*smooth(x, m_min, dm)\n",
    "\n",
    "def ligo_m(x, a = 2.63, m_min = 4.59, m_max = 86.22, frac = 0.1,\n",
    "         dm = 4.82, mu = 33.07, sigma = 5.69):\n",
    "    return x*ligo(x, a, m_min, m_max, frac, dm, mu, sigma)"
   ]
  },
  {
   "cell_type": "code",
   "execution_count": 4,
   "id": "e964c0d6",
   "metadata": {},
   "outputs": [],
   "source": [
    "m_ar = np.arange(4, 100, .01)"
   ]
  },
  {
   "cell_type": "code",
   "execution_count": 5,
   "id": "763e9bbd",
   "metadata": {},
   "outputs": [
    {
     "name": "stderr",
     "output_type": "stream",
     "text": [
      "<ipython-input-3-40ada0f588bc>:22: RuntimeWarning: overflow encountered in exp\n",
      "  f = np.exp(dm/(new_x - m_min) + dm/(new_x - m_min - dm))\n"
     ]
    }
   ],
   "source": [
    "norm = integrate.quad(ligo, 4.59, 86.22)[0]"
   ]
  },
  {
   "cell_type": "code",
   "execution_count": 8,
   "id": "c074d1a5",
   "metadata": {},
   "outputs": [
    {
     "data": {
      "image/png": "[encoded data removed]",
      "text/plain": [
       "<Figure size 600x400 with 1 Axes>"
      ]
     },
     "metadata": {},
     "output_type": "display_data"
    }
   ],
   "source": [
    "figure = plt.figure(figsize = (6, 4))\n",
    "plt.plot(m_ar, ligo(m_ar)/norm, 'k-', label = 'LIGO')\n",
    "\n",
    "\n",
    "plt.yscale('log')\n",
    "plt.xscale('log')\n",
    "plt.ylim(1e-4, 1e-0)\n",
    "plt.xlim(1,1e2)\n",
    "plt.xlabel(r'BH mass [$M_{\\odot}$]')\n",
    "plt.ylabel(r'PDF [$M_{\\odot}^{-1}$]')\n",
    "plt.grid()\n",
    "\n",
    "plt.savefig('BH_mass.pdf', bbox_inches = 'tight')"
   ]
  },
  {
   "cell_type": "code",
   "execution_count": null,
   "id": "032748de",
   "metadata": {},
   "outputs": [],
   "source": []
  }
 ],
 "metadata": {
  "kernelspec": {
   "display_name": "Python 3",
   "language": "python",
   "name": "python3"
  },
  "language_info": {
   "codemirror_mode": {
    "name": "ipython",
    "version": 3
   },
   "file_extension": ".py",
   "mimetype": "text/x-python",
   "name": "python",
   "nbconvert_exporter": "python",
   "pygments_lexer": "ipython3",
   "version": "3.8.8"
  }
 },
 "nbformat": 4,
 "nbformat_minor": 5
}
